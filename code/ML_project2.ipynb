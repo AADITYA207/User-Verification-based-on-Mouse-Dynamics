{
  "cells": [
    {
      "cell_type": "code",
      "execution_count": null,
      "metadata": {
        "colab": {
          "base_uri": "https://localhost:8080/",
          "height": 73
        },
        "id": "7lCrMVSjCiPu",
        "outputId": "794ec199-7f6a-4cb8-8495-625e6a1f2a04"
      },
      "outputs": [
        {
          "data": {
            "text/html": [
              "\n",
              "     <input type=\"file\" id=\"files-6a9a1ddf-31d5-40a2-abe3-21ee1beb408e\" name=\"files[]\" multiple disabled\n",
              "        style=\"border:none\" />\n",
              "     <output id=\"result-6a9a1ddf-31d5-40a2-abe3-21ee1beb408e\">\n",
              "      Upload widget is only available when the cell has been executed in the\n",
              "      current browser session. Please rerun this cell to enable.\n",
              "      </output>\n",
              "      <script>// Copyright 2017 Google LLC\n",
              "//\n",
              "// Licensed under the Apache License, Version 2.0 (the \"License\");\n",
              "// you may not use this file except in compliance with the License.\n",
              "// You may obtain a copy of the License at\n",
              "//\n",
              "//      http://www.apache.org/licenses/LICENSE-2.0\n",
              "//\n",
              "// Unless required by applicable law or agreed to in writing, software\n",
              "// distributed under the License is distributed on an \"AS IS\" BASIS,\n",
              "// WITHOUT WARRANTIES OR CONDITIONS OF ANY KIND, either express or implied.\n",
              "// See the License for the specific language governing permissions and\n",
              "// limitations under the License.\n",
              "\n",
              "/**\n",
              " * @fileoverview Helpers for google.colab Python module.\n",
              " */\n",
              "(function(scope) {\n",
              "function span(text, styleAttributes = {}) {\n",
              "  const element = document.createElement('span');\n",
              "  element.textContent = text;\n",
              "  for (const key of Object.keys(styleAttributes)) {\n",
              "    element.style[key] = styleAttributes[key];\n",
              "  }\n",
              "  return element;\n",
              "}\n",
              "\n",
              "// Max number of bytes which will be uploaded at a time.\n",
              "const MAX_PAYLOAD_SIZE = 100 * 1024;\n",
              "\n",
              "function _uploadFiles(inputId, outputId) {\n",
              "  const steps = uploadFilesStep(inputId, outputId);\n",
              "  const outputElement = document.getElementById(outputId);\n",
              "  // Cache steps on the outputElement to make it available for the next call\n",
              "  // to uploadFilesContinue from Python.\n",
              "  outputElement.steps = steps;\n",
              "\n",
              "  return _uploadFilesContinue(outputId);\n",
              "}\n",
              "\n",
              "// This is roughly an async generator (not supported in the browser yet),\n",
              "// where there are multiple asynchronous steps and the Python side is going\n",
              "// to poll for completion of each step.\n",
              "// This uses a Promise to block the python side on completion of each step,\n",
              "// then passes the result of the previous step as the input to the next step.\n",
              "function _uploadFilesContinue(outputId) {\n",
              "  const outputElement = document.getElementById(outputId);\n",
              "  const steps = outputElement.steps;\n",
              "\n",
              "  const next = steps.next(outputElement.lastPromiseValue);\n",
              "  return Promise.resolve(next.value.promise).then((value) => {\n",
              "    // Cache the last promise value to make it available to the next\n",
              "    // step of the generator.\n",
              "    outputElement.lastPromiseValue = value;\n",
              "    return next.value.response;\n",
              "  });\n",
              "}\n",
              "\n",
              "/**\n",
              " * Generator function which is called between each async step of the upload\n",
              " * process.\n",
              " * @param {string} inputId Element ID of the input file picker element.\n",
              " * @param {string} outputId Element ID of the output display.\n",
              " * @return {!Iterable<!Object>} Iterable of next steps.\n",
              " */\n",
              "function* uploadFilesStep(inputId, outputId) {\n",
              "  const inputElement = document.getElementById(inputId);\n",
              "  inputElement.disabled = false;\n",
              "\n",
              "  const outputElement = document.getElementById(outputId);\n",
              "  outputElement.innerHTML = '';\n",
              "\n",
              "  const pickedPromise = new Promise((resolve) => {\n",
              "    inputElement.addEventListener('change', (e) => {\n",
              "      resolve(e.target.files);\n",
              "    });\n",
              "  });\n",
              "\n",
              "  const cancel = document.createElement('button');\n",
              "  inputElement.parentElement.appendChild(cancel);\n",
              "  cancel.textContent = 'Cancel upload';\n",
              "  const cancelPromise = new Promise((resolve) => {\n",
              "    cancel.onclick = () => {\n",
              "      resolve(null);\n",
              "    };\n",
              "  });\n",
              "\n",
              "  // Wait for the user to pick the files.\n",
              "  const files = yield {\n",
              "    promise: Promise.race([pickedPromise, cancelPromise]),\n",
              "    response: {\n",
              "      action: 'starting',\n",
              "    }\n",
              "  };\n",
              "\n",
              "  cancel.remove();\n",
              "\n",
              "  // Disable the input element since further picks are not allowed.\n",
              "  inputElement.disabled = true;\n",
              "\n",
              "  if (!files) {\n",
              "    return {\n",
              "      response: {\n",
              "        action: 'complete',\n",
              "      }\n",
              "    };\n",
              "  }\n",
              "\n",
              "  for (const file of files) {\n",
              "    const li = document.createElement('li');\n",
              "    li.append(span(file.name, {fontWeight: 'bold'}));\n",
              "    li.append(span(\n",
              "        `(${file.type || 'n/a'}) - ${file.size} bytes, ` +\n",
              "        `last modified: ${\n",
              "            file.lastModifiedDate ? file.lastModifiedDate.toLocaleDateString() :\n",
              "                                    'n/a'} - `));\n",
              "    const percent = span('0% done');\n",
              "    li.appendChild(percent);\n",
              "\n",
              "    outputElement.appendChild(li);\n",
              "\n",
              "    const fileDataPromise = new Promise((resolve) => {\n",
              "      const reader = new FileReader();\n",
              "      reader.onload = (e) => {\n",
              "        resolve(e.target.result);\n",
              "      };\n",
              "      reader.readAsArrayBuffer(file);\n",
              "    });\n",
              "    // Wait for the data to be ready.\n",
              "    let fileData = yield {\n",
              "      promise: fileDataPromise,\n",
              "      response: {\n",
              "        action: 'continue',\n",
              "      }\n",
              "    };\n",
              "\n",
              "    // Use a chunked sending to avoid message size limits. See b/62115660.\n",
              "    let position = 0;\n",
              "    do {\n",
              "      const length = Math.min(fileData.byteLength - position, MAX_PAYLOAD_SIZE);\n",
              "      const chunk = new Uint8Array(fileData, position, length);\n",
              "      position += length;\n",
              "\n",
              "      const base64 = btoa(String.fromCharCode.apply(null, chunk));\n",
              "      yield {\n",
              "        response: {\n",
              "          action: 'append',\n",
              "          file: file.name,\n",
              "          data: base64,\n",
              "        },\n",
              "      };\n",
              "\n",
              "      let percentDone = fileData.byteLength === 0 ?\n",
              "          100 :\n",
              "          Math.round((position / fileData.byteLength) * 100);\n",
              "      percent.textContent = `${percentDone}% done`;\n",
              "\n",
              "    } while (position < fileData.byteLength);\n",
              "  }\n",
              "\n",
              "  // All done.\n",
              "  yield {\n",
              "    response: {\n",
              "      action: 'complete',\n",
              "    }\n",
              "  };\n",
              "}\n",
              "\n",
              "scope.google = scope.google || {};\n",
              "scope.google.colab = scope.google.colab || {};\n",
              "scope.google.colab._files = {\n",
              "  _uploadFiles,\n",
              "  _uploadFilesContinue,\n",
              "};\n",
              "})(self);\n",
              "</script> "
            ],
            "text/plain": [
              "<IPython.core.display.HTML object>"
            ]
          },
          "metadata": {},
          "output_type": "display_data"
        },
        {
          "name": "stdout",
          "output_type": "stream",
          "text": [
            "Saving mdata.csv to mdata.csv\n"
          ]
        }
      ],
      "source": [
        "import pandas as pd\n",
        "import numpy as np\n",
        "from google.colab import files\n",
        "uploaded = files.upload()\n",
        "import io\n",
        "df = pd.read_csv(io.BytesIO(uploaded['mdata.csv']))"
      ]
    },
    {
      "cell_type": "code",
      "execution_count": null,
      "metadata": {
        "id": "HusJ_UNFDWEI"
      },
      "outputs": [],
      "source": [
        "data = df.copy()"
      ]
    },
    {
      "cell_type": "code",
      "execution_count": null,
      "metadata": {
        "id": "JiGEtyudDmoD"
      },
      "outputs": [],
      "source": [
        "X = df.drop('userid', axis = 1)\n",
        "Y = df['userid']\n",
        "Y = np.array(Y)"
      ]
    },
    {
      "cell_type": "code",
      "execution_count": null,
      "metadata": {
        "id": "FjSBQ_uqEbi5"
      },
      "outputs": [],
      "source": [
        "X = X.drop([' minvx', ' minvy', ' max_curvature'], axis = 1)"
      ]
    },
    {
      "cell_type": "code",
      "execution_count": null,
      "metadata": {
        "id": "PcLjuuKIEVWV"
      },
      "outputs": [],
      "source": [
        "from sklearn.preprocessing import StandardScaler\n",
        "scaler = StandardScaler()\n",
        "X=scaler.fit_transform(X)"
      ]
    },
    {
      "cell_type": "code",
      "execution_count": null,
      "metadata": {
        "id": "Aanz15JGE3jk"
      },
      "outputs": [],
      "source": [
        "from sklearn.model_selection import train_test_split\n",
        "x_train, x_test, y_train, y_test = train_test_split(X, Y, random_state = 100,test_size=0.3,shuffle=True)"
      ]
    },
    {
      "cell_type": "code",
      "execution_count": null,
      "metadata": {
        "colab": {
          "base_uri": "https://localhost:8080/"
        },
        "id": "6iazzARMDCWa",
        "outputId": "adf862a5-aec2-49e0-b78a-920118d2b685"
      },
      "outputs": [
        {
          "data": {
            "text/plain": [
              "GradientBoostingClassifier()"
            ]
          },
          "execution_count": 15,
          "metadata": {},
          "output_type": "execute_result"
        }
      ],
      "source": [
        "from sklearn.ensemble import GradientBoostingClassifier\n",
        "clf = GradientBoostingClassifier()\n",
        "clf.fit(x_train, y_train)"
      ]
    },
    {
      "cell_type": "code",
      "execution_count": null,
      "metadata": {
        "colab": {
          "base_uri": "https://localhost:8080/"
        },
        "id": "9musaFWCJTp3",
        "outputId": "1192723f-0105-48d1-d93b-a6ad506590de"
      },
      "outputs": [
        {
          "data": {
            "text/plain": [
              "0.41245972073039744"
            ]
          },
          "execution_count": 16,
          "metadata": {},
          "output_type": "execute_result"
        }
      ],
      "source": [
        "clf.score(x_test, y_test)"
      ]
    },
    {
      "cell_type": "code",
      "execution_count": null,
      "metadata": {
        "id": "NrmghIgmJp3v"
      },
      "outputs": [],
      "source": [
        "y_pred = clf.predict(x_test)"
      ]
    },
    {
      "cell_type": "code",
      "execution_count": null,
      "metadata": {
        "colab": {
          "base_uri": "https://localhost:8080/"
        },
        "id": "XEd_uxYtyKP1",
        "outputId": "299515a1-1f59-41d4-ec82-58225876799d"
      },
      "outputs": [
        {
          "name": "stdout",
          "output_type": "stream",
          "text": [
            "              precision    recall  f1-score   support\n",
            "\n",
            "           1       0.26      0.36      0.30       829\n",
            "           2       0.66      0.52      0.58      1403\n",
            "           3       0.48      0.36      0.41      1508\n",
            "           4       0.57      0.56      0.56      1186\n",
            "           5       0.31      0.49      0.37       702\n",
            "           6       0.23      0.37      0.29       736\n",
            "           7       0.54      0.49      0.51      1227\n",
            "           8       0.49      0.53      0.51      1083\n",
            "           9       0.46      0.32      0.38      1619\n",
            "          10       0.39      0.36      0.37      1242\n",
            "          11       0.39      0.38      0.39      1214\n",
            "          12       0.43      0.36      0.39      1344\n",
            "          13       0.23      0.30      0.26       903\n",
            "          14       0.32      0.38      0.35       959\n",
            "          15       0.25      0.31      0.28       950\n",
            "          16       0.41      0.48      0.44      1002\n",
            "          17       0.45      0.44      0.44      1161\n",
            "          18       0.52      0.61      0.56       974\n",
            "          19       0.30      0.36      0.33       973\n",
            "          20       0.51      0.43      0.47      1282\n",
            "          21       0.45      0.36      0.40      1373\n",
            "          22       0.76      0.59      0.66       697\n",
            "          23       0.37      0.30      0.33       697\n",
            "          24       0.37      0.40      0.38       548\n",
            "          25       0.33      0.47      0.39       406\n",
            "          26       0.45      0.36      0.40       662\n",
            "          27       0.38      0.35      0.36       611\n",
            "          28       0.32      0.29      0.30       639\n",
            "\n",
            "    accuracy                           0.41     27930\n",
            "   macro avg       0.42      0.41      0.41     27930\n",
            "weighted avg       0.43      0.41      0.42     27930\n",
            "\n"
          ]
        }
      ],
      "source": [
        "from sklearn.metrics import classification_report\n",
        "print(classification_report(y_pred, y_test))"
      ]
    },
    {
      "cell_type": "code",
      "execution_count": null,
      "metadata": {
        "colab": {
          "base_uri": "https://localhost:8080/"
        },
        "id": "bGs99ibVEGSw",
        "outputId": "5b193b92-5d17-4876-a3bb-4325be2dbb42"
      },
      "outputs": [
        {
          "name": "stdout",
          "output_type": "stream",
          "text": [
            "              precision    recall  f1-score   support\n",
            "\n",
            "           1       0.32      0.45      0.37      1871\n",
            "           2       0.68      0.57      0.62      3234\n",
            "           3       0.55      0.42      0.48      3443\n",
            "           4       0.59      0.59      0.59      2627\n",
            "           5       0.35      0.60      0.44      1564\n",
            "           6       0.32      0.48      0.38      1734\n",
            "           7       0.59      0.55      0.57      2882\n",
            "           8       0.52      0.54      0.53      2530\n",
            "           9       0.49      0.36      0.42      3667\n",
            "          10       0.47      0.43      0.45      2950\n",
            "          11       0.46      0.43      0.45      2801\n",
            "          12       0.52      0.41      0.46      3384\n",
            "          13       0.33      0.41      0.37      2118\n",
            "          14       0.39      0.47      0.43      2205\n",
            "          15       0.31      0.39      0.35      2122\n",
            "          16       0.50      0.51      0.51      2569\n",
            "          17       0.49      0.49      0.49      2700\n",
            "          18       0.60      0.69      0.64      2325\n",
            "          19       0.35      0.44      0.39      2097\n",
            "          20       0.56      0.52      0.54      2973\n",
            "          21       0.52      0.41      0.46      3408\n",
            "          22       0.75      0.64      0.69      1609\n",
            "          23       0.51      0.40      0.45      1667\n",
            "          24       0.45      0.47      0.46      1286\n",
            "          25       0.46      0.56      0.50      1081\n",
            "          26       0.52      0.45      0.49      1576\n",
            "          27       0.47      0.46      0.47      1364\n",
            "          28       0.43      0.40      0.42      1383\n",
            "\n",
            "    accuracy                           0.48     65170\n",
            "   macro avg       0.48      0.48      0.48     65170\n",
            "weighted avg       0.49      0.48      0.48     65170\n",
            "\n"
          ]
        }
      ],
      "source": [
        "y_pred = clf.predict(x_train)\n",
        "print(classification_report(y_pred, y_train))"
      ]
    },
    {
      "cell_type": "code",
      "execution_count": null,
      "metadata": {
        "colab": {
          "base_uri": "https://localhost:8080/"
        },
        "id": "tbpJm26cJt5V",
        "outputId": "67a0efc2-e59f-46b7-db12-89b2f10d5da0"
      },
      "outputs": [
        {
          "data": {
            "text/plain": [
              "array([13.23555497, 11.48685936, 14.16688298, 13.55956893, 14.03048313,\n",
              "       16.41026189, 11.58195123, 13.00669994, 12.77261089,  7.53848   ])"
            ]
          },
          "execution_count": 13,
          "metadata": {},
          "output_type": "execute_result"
        }
      ],
      "source": [
        "y_pred[:10]"
      ]
    },
    {
      "cell_type": "code",
      "execution_count": null,
      "metadata": {
        "id": "59gKBx1fJvV9"
      },
      "outputs": [],
      "source": []
    }
  ],
  "metadata": {
    "colab": {
      "provenance": []
    },
    "kernelspec": {
      "display_name": "Python 3",
      "language": "python",
      "name": "python3"
    },
    "language_info": {
      "name": "python",
      "version": "3.8.10 (default, Nov 14 2022, 12:59:47) \n[GCC 9.4.0]"
    },
    "vscode": {
      "interpreter": {
        "hash": "916dbcbb3f70747c44a77c7bcd40155683ae19c65e1c03b4aa3499c5328201f1"
      }
    }
  },
  "nbformat": 4,
  "nbformat_minor": 0
}
